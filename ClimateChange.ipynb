{
 "cells": [
  {
   "cell_type": "markdown",
   "metadata": {},
   "source": [
    "# Climate Change: Earth Surface Temperature Data\n",
    "\n",
    "Some say climate change is the biggest threat of our age while others say it’s a myth based on dodgy science. We are turning some of the data over to you so you can form your own view.\n",
    "\n",
    "Even more than with other data sets that Kaggle has featured, there’s a huge amount of data cleaning and preparation that goes into putting together a long-time study of climate trends. Early data was collected by technicians using mercury thermometers, where any variation in the visit time impacted measurements. In the 1940s, the construction of airports caused many weather stations to be moved. In the 1980s, there was a move to electronic thermometers that are said to have a cooling bias.\n",
    "\n",
    "Given this complexity, there are a range of organizations that collate climate trends data. The three most cited land and ocean temperature data sets are NOAA’s MLOST, NASA’s GISTEMP and the UK’s HadCrut.\n",
    "\n",
    "We have repackaged the data from a newer compilation put together by the Berkeley Earth, which is affiliated with Lawrence Berkeley National Laboratory. The Berkeley Earth Surface Temperature Study combines 1.6 billion temperature reports from 16 pre-existing archives. It is nicely packaged and allows for slicing into interesting subsets (for example by country). They publish the source data and the code for the transformations they applied. They also use methods that allow weather observations from shorter time series to be included, meaning fewer observations need to be thrown away.\n",
    "\n",
    "In this dataset, we have include several files:\n",
    "\n",
    "Global Land and Ocean-and-Land Temperatures (GlobalTemperatures.csv):\n",
    "\n",
    "Date: starts in 1750 for average land temperature and 1850 for max and min land temperatures and global ocean and land temperatures\n",
    "LandAverageTemperature: global average land temperature in celsius\n",
    "LandAverageTemperatureUncertainty: the 95% confidence interval around the average\n",
    "LandMaxTemperature: global average maximum land temperature in celsius\n",
    "LandMaxTemperatureUncertainty: the 95% confidence interval around the maximum land temperature\n",
    "LandMinTemperature: global average minimum land temperature in celsius\n",
    "LandMinTemperatureUncertainty: the 95% confidence interval around the minimum land temperature\n",
    "LandAndOceanAverageTemperature: global average land and ocean temperature in celsius\n",
    "LandAndOceanAverageTemperatureUncertainty: the 95% confidence interval around the global average land and ocean temperature\n",
    "Other files include:\n",
    "\n",
    "Global Average Land Temperature by Country (GlobalLandTemperaturesByCountry.csv)\n",
    "Global Average Land Temperature by State (GlobalLandTemperaturesByState.csv)\n",
    "Global Land Temperatures By Major City (GlobalLandTemperaturesByMajorCity.csv)\n",
    "Global Land Temperatures By City (GlobalLandTemperaturesByCity.csv)\n",
    "The raw data comes from the Berkeley Earth data page."
   ]
  },
  {
   "cell_type": "markdown",
   "metadata": {},
   "source": [
    "# Description\n",
    "\n",
    "The previous text is the description given with the files. The focal point is the change in average temperature of the earth due to climate change.\n",
    "\n",
    "Five `.csv` files are provided:\n",
    "+ GlobalLandTemperaturesByCity.csv\n",
    "+ GlobalLandTemperaturesByCountry.csv\n",
    "+ GlobalLandTemperaturesByMajorCity.csv\n",
    "+ GlobalLandTemperaturesByState.csv\n",
    "+ GlobalTemperatures.csv\n",
    "\n",
    "The are extense, and in there are some missing information. To reduce project time and obtain an initial analysis only the files `GlobalLandTemperaturesByCountry.csv` and `GlobalTemperatures.csv` will be analysed.\n",
    "\n",
    "The objective of this project is to see how the average temperature as increased over the years globaly an in each country. Some charts will be created to better observe this changes."
   ]
  },
  {
   "cell_type": "markdown",
   "metadata": {},
   "source": [
    "## Import modules"
   ]
  },
  {
   "cell_type": "code",
   "execution_count": 2,
   "metadata": {},
   "outputs": [],
   "source": [
    "import numpy as np\n",
    "import pandas as pd\n",
    "import scipy\n",
    "import matplotlib.pyplot as plt\n",
    "import seaborn as sns"
   ]
  },
  {
   "cell_type": "markdown",
   "metadata": {},
   "source": [
    "## Load and inspect the data"
   ]
  },
  {
   "cell_type": "code",
   "execution_count": 3,
   "metadata": {},
   "outputs": [
    {
     "name": "stdout",
     "output_type": "stream",
     "text": [
      "           dt  LandAverageTemperature  LandAverageTemperatureUncertainty  \\\n",
      "0  1750-01-01                   3.034                              3.574   \n",
      "1  1750-02-01                   3.083                              3.702   \n",
      "2  1750-03-01                   5.626                              3.076   \n",
      "3  1750-04-01                   8.490                              2.451   \n",
      "4  1750-05-01                  11.573                              2.072   \n",
      "\n",
      "   LandMaxTemperature  LandMaxTemperatureUncertainty  LandMinTemperature  \\\n",
      "0                 NaN                            NaN                 NaN   \n",
      "1                 NaN                            NaN                 NaN   \n",
      "2                 NaN                            NaN                 NaN   \n",
      "3                 NaN                            NaN                 NaN   \n",
      "4                 NaN                            NaN                 NaN   \n",
      "\n",
      "   LandMinTemperatureUncertainty  LandAndOceanAverageTemperature  \\\n",
      "0                            NaN                             NaN   \n",
      "1                            NaN                             NaN   \n",
      "2                            NaN                             NaN   \n",
      "3                            NaN                             NaN   \n",
      "4                            NaN                             NaN   \n",
      "\n",
      "   LandAndOceanAverageTemperatureUncertainty  \n",
      "0                                        NaN  \n",
      "1                                        NaN  \n",
      "2                                        NaN  \n",
      "3                                        NaN  \n",
      "4                                        NaN  \n",
      "Index(['dt', 'LandAverageTemperature', 'LandAverageTemperatureUncertainty',\n",
      "       'LandMaxTemperature', 'LandMaxTemperatureUncertainty',\n",
      "       'LandMinTemperature', 'LandMinTemperatureUncertainty',\n",
      "       'LandAndOceanAverageTemperature',\n",
      "       'LandAndOceanAverageTemperatureUncertainty'],\n",
      "      dtype='object')\n",
      "           dt  AverageTemperature  AverageTemperatureUncertainty Country\n",
      "0  1743-11-01               4.384                          2.294   Åland\n",
      "1  1743-12-01                 NaN                            NaN   Åland\n",
      "2  1744-01-01                 NaN                            NaN   Åland\n",
      "3  1744-02-01                 NaN                            NaN   Åland\n",
      "4  1744-03-01                 NaN                            NaN   Åland\n",
      "Index(['dt', 'AverageTemperature', 'AverageTemperatureUncertainty', 'Country'], dtype='object')\n"
     ]
    }
   ],
   "source": [
    "#global temperatures file\n",
    "globaltemp = pd.read_csv(\"GlobalTemperatures.csv\")\n",
    "print(globaltemp.head())\n",
    "print(globaltemp.columns)\n",
    "\n",
    "#country temperature file\n",
    "countrytemp = pd.read_csv(\"GlobalLandTemperaturesByCountry.csv\")\n",
    "print(countrytemp.head())\n",
    "print(countrytemp.columns)"
   ]
  }
 ],
 "metadata": {
  "kernelspec": {
   "display_name": "Python 3",
   "language": "python",
   "name": "python3"
  },
  "language_info": {
   "codemirror_mode": {
    "name": "ipython",
    "version": 3
   },
   "file_extension": ".py",
   "mimetype": "text/x-python",
   "name": "python",
   "nbconvert_exporter": "python",
   "pygments_lexer": "ipython3",
   "version": "3.7.6"
  }
 },
 "nbformat": 4,
 "nbformat_minor": 4
}
